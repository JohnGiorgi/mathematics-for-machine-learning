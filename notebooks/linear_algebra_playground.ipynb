{
 "cells": [
  {
   "cell_type": "markdown",
   "metadata": {},
   "source": [
    "# Linear Algebra Playground\n",
    "\n",
    "This notebook contains `python` code that implements, in Numpy, _most_ of everything seen in the course [Mathematics for Machine Learning Specialization](https://www.coursera.org/learn/linear-algebra-machine-learning) on [Coursera](https://www.coursera.org), but it would also be useful for anyone who wants some practice implementing linear algebra methods & routines in code.\n",
    "\n",
    "## TOC\n",
    "\n",
    "1. [Week 2](#Week-2)\n",
    "3. [Week 3](#Week-3)\n",
    "3. [Week 4](#Week-4)\n",
    "3. [Week 5](#Week-5)"
   ]
  },
  {
   "cell_type": "code",
   "execution_count": null,
   "metadata": {},
   "outputs": [],
   "source": [
    "# import Numpy\n",
    "import numpy as np"
   ]
  },
  {
   "cell_type": "markdown",
   "metadata": {},
   "source": [
    "## Week 2\n",
    "\n",
    "### Length of a vector\n",
    "\n",
    "To calculate the **length** (or **norm**) of a vector:"
   ]
  },
  {
   "cell_type": "code",
   "execution_count": null,
   "metadata": {},
   "outputs": [],
   "source": [
    "v = np.array([1, 3, 4, 2])\n",
    "\n",
    "# Calculate the length \"by hand\"\n",
    "norm = 0\n",
    "for i in v:\n",
    "    norm += i ** 2\n",
    "norm **= 0.5\n",
    "\n",
    "# Calculate the length using a numpy method\n",
    "norm = np.linalg.norm(v)\n",
    "\n",
    "norm # print the result"
   ]
  },
  {
   "cell_type": "markdown",
   "metadata": {},
   "source": [
    "### Dot product\n",
    "\n",
    "To calculate the **dot product** of two vectors:"
   ]
  },
  {
   "cell_type": "code",
   "execution_count": null,
   "metadata": {},
   "outputs": [],
   "source": [
    "u = np.array([-5, 3, 2, 8])\n",
    "v = np.array([1, 2, -1, 0])\n",
    "\n",
    "# Calculate the dot product \"by hand\"\n",
    "def dot_product(u, v):\n",
    "    dot_product = 0\n",
    "    for i, j in zip(u, v):\n",
    "        dot_product += i * j\n",
    "    return dot_product\n",
    "dot_product = dot_product(u, v)\n",
    "    \n",
    "# Calculate the dot product using a numpy method\n",
    "dot_product = np.dot(u, v)\n",
    "\n",
    "dot_product # print the result"
   ]
  },
  {
   "cell_type": "markdown",
   "metadata": {},
   "source": [
    "### Projections\n",
    "\n",
    "To calculate the **scalar projection** of two vectors:"
   ]
  },
  {
   "cell_type": "code",
   "execution_count": null,
   "metadata": {},
   "outputs": [],
   "source": [
    "u = np.array([2, 1])\n",
    "v = np.array([3, -4])\n",
    "\n",
    "# Calculate the scalar projection \"by hand\"\n",
    "def scalar_projection(u, v):\n",
    "    return np.dot(u, v) / np.linalg.norm(v)\n",
    "\n",
    "scalar_projection(u, v) # print the result"
   ]
  },
  {
   "cell_type": "markdown",
   "metadata": {},
   "source": [
    "To calculate the **vector projection** of two vectors:"
   ]
  },
  {
   "cell_type": "code",
   "execution_count": null,
   "metadata": {},
   "outputs": [],
   "source": [
    "u = np.array([1, 2])\n",
    "v = np.array([1, 1])\n",
    "\n",
    "# Calculate the vector projection \"by hand\"\n",
    "def projection_product(u, v):\n",
    "    # scalar projection of u onto v\n",
    "    projection = scalar_projection(u, v)\n",
    "    # unit vector in the direction of v\n",
    "    unit_vec_v = v / np.linalg.norm(v)\n",
    "    # return the projection product\n",
    "    return projection * unit_vec_v\n",
    "\n",
    "projection_product(u, v) # print the result"
   ]
  },
  {
   "cell_type": "markdown",
   "metadata": {},
   "source": [
    "### Changing basis\n",
    "\n",
    "To **change basis** when the new basis vectors are _orthogonal_:\n",
    "\n",
    "> Note, you can provide vectors of any dimension"
   ]
  },
  {
   "cell_type": "code",
   "execution_count": null,
   "metadata": {},
   "outputs": [],
   "source": [
    "v = np.array([-4, -3, 8])\n",
    "# new basis vectors\n",
    "b_1 = np.array([1, 2, 3])\n",
    "b_2 = np.array([-2, 1, 0])\n",
    "b_3 = np.array([-3, -6, 5])\n",
    "\n",
    "def change_basis(v, *args):\n",
    "    v_in_b = np.zeros(len(args))\n",
    "    for i, arg in enumerate(args):\n",
    "        v_in_b[i] = scalar_projection(v, arg) / np.linalg.norm(arg)\n",
    "\n",
    "    return v_in_b\n",
    "\n",
    "change_basis(v, b_1, b_2, b_3) # print the result"
   ]
  },
  {
   "cell_type": "markdown",
   "metadata": {},
   "source": [
    "## Week 3"
   ]
  },
  {
   "cell_type": "markdown",
   "metadata": {},
   "source": [
    "### Inverting a matrix"
   ]
  },
  {
   "cell_type": "markdown",
   "metadata": {},
   "source": [
    "To **invert** a matrix `A` (assuming it is invertible):\n",
    "\n",
    "> This code block assumes `A` is square!"
   ]
  },
  {
   "cell_type": "code",
   "execution_count": null,
   "metadata": {},
   "outputs": [],
   "source": [
    "A = np.matrix([[1, 1, 1],\n",
    "               [3, 2, 1],\n",
    "               [2, 1, 2]])\n",
    "\n",
    "# Compute the inverse\n",
    "B = np.linalg.inv(A)\n",
    "\n",
    "B # print the result\n",
    "\n",
    "# Uncomment to check the result\n",
    "# (np.around(A.dot(B)) == np.eye(A.shape[0])).all()"
   ]
  },
  {
   "cell_type": "markdown",
   "metadata": {},
   "source": [
    "### Solving systems of linear equations\n",
    "\n",
    "To **solve a system of linear equations** `Ar = s`:\n",
    "\n",
    "> Note, `np.linalg.solve` requires that the matrix `A` is invertible!"
   ]
  },
  {
   "cell_type": "code",
   "execution_count": null,
   "metadata": {},
   "outputs": [],
   "source": [
    "A = np.matrix([[1, 1, 1],\n",
    "               [3, 2, 1],\n",
    "               [2, 1, 2]])\n",
    "s = np.array([15, 28, 23])\n",
    "\n",
    "# Solve the system \"by hand\"\n",
    "r = np.linalg.inv(A).dot(s)\n",
    "# Solve the system using a numpy method\n",
    "r = np.linalg.solve(A, s)\n",
    "\n",
    "r # print the result\n",
    "\n",
    "# Uncomment to check the result\n",
    "# (A.dot(r) == s).all() "
   ]
  },
  {
   "cell_type": "markdown",
   "metadata": {},
   "source": [
    "### Computing the determinant\n",
    "\n",
    "To compute the **determinant** of a matrix `A`:\n",
    "\n",
    "> This code block assumes `A` is square, 2x2 matrix!"
   ]
  },
  {
   "cell_type": "code",
   "execution_count": null,
   "metadata": {},
   "outputs": [],
   "source": [
    "A = np.zeros((2,2))\n",
    "A[0]= np.array([1, 2])\n",
    "A[1]= np.array([3, 4])\n",
    "\n",
    "# Calculate the determinant \"by hand\"\n",
    "def determinant(A):\n",
    "    return A[0][0] * A[1][1] - A[0][1] * A[1][0]\n",
    "determinant = determinant(A)\n",
    "    \n",
    "# Calculate the determinant using a numpy method\n",
    "determinant = np.linalg.det(A)\n",
    "\n",
    "np.around(determinant) # print the result"
   ]
  },
  {
   "cell_type": "markdown",
   "metadata": {},
   "source": [
    "## Week 4\n",
    "\n",
    "### Multiplying matrices\n",
    "\n",
    "Multiplying to matrices is as easy as summing the products of the elements of the first matrices rows with the elements of the second matrices columns"
   ]
  },
  {
   "cell_type": "code",
   "execution_count": null,
   "metadata": {},
   "outputs": [],
   "source": [
    "A = np.array([[1, 0], \n",
    "              [0, 1]])\n",
    "B = np.array([[1, 2, 3], \n",
    "              [4, 5, 6]])\n",
    "\n",
    "A_i, A_k = A.shape\n",
    "B_k, B_j = B.shape\n",
    "\n",
    "assert A_k == B_k, 'Matrix multiplication is not defined for two matrices with different k dimensions'\n",
    "\n",
    "# Calculate product \"by hand\"\n",
    "C = np.zeros((A_i, B_j))\n",
    "for i in range(A_i):\n",
    "    for j in range(B_j):\n",
    "        for k in range(A_k):\n",
    "            C[i, j] += A[i, k] * B[k, j]\n",
    "\n",
    "# Calculate product using a numpy method\n",
    "C = A.dot(B)\n",
    "\n",
    "C # print the result"
   ]
  },
  {
   "cell_type": "markdown",
   "metadata": {},
   "source": [
    "## Week 5\n",
    "\n",
    "### Finding the eigenvalues and eigenevectors"
   ]
  },
  {
   "cell_type": "code",
   "execution_count": null,
   "metadata": {},
   "outputs": [],
   "source": [
    "A = np.array([[3, 4], \n",
    "              [0, 5]])\n",
    "\n",
    "# Calculate eigenvalues and eigenvectors using a numpy method\n",
    "eigenvalues, eigenvectors = np.linalg.eig(A)\n",
    "\n",
    "eigenvalues, eigenvectors"
   ]
  }
 ],
 "metadata": {
  "kernelspec": {
   "display_name": "Python [default]",
   "language": "python",
   "name": "python3"
  },
  "language_info": {
   "codemirror_mode": {
    "name": "ipython",
    "version": 3
   },
   "file_extension": ".py",
   "mimetype": "text/x-python",
   "name": "python",
   "nbconvert_exporter": "python",
   "pygments_lexer": "ipython3",
   "version": "3.6.5"
  }
 },
 "nbformat": 4,
 "nbformat_minor": 2
}
